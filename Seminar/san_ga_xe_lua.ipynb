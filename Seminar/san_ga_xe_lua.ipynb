def findPlatform(arr, dep, n):
	arr.sort()
	dep.sort()
	plat_needed = 1
	result = 1
	i = 1
	j = 0
	while (i < n and j < n):
		if (arr[i] <= dep[j]):
			plat_needed += 1
			i += 1
		elif (arr[i] > dep[j]):
			plat_needed -= 1
			j += 1
		if (plat_needed > result):
			result = plat_needed
	return result
arr = [int(item) for item in input().split()]
dep = [int(item) for item in input().split()]
n = len(arr)
print(findPlatform(arr, dep, n))
