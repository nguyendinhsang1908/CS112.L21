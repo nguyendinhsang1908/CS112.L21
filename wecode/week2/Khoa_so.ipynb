{
  "nbformat": 4,
  "nbformat_minor": 0,
  "metadata": {
    "colab": {
      "name": "Untitled0.ipynb",
      "provenance": [],
      "collapsed_sections": []
    },
    "kernelspec": {
      "name": "python3",
      "display_name": "Python 3"
    },
    "language_info": {
      "name": "python"
    }
  },
  "cells": [
    {
      "cell_type": "markdown",
      "metadata": {
        "id": "OPKuigcS677m"
      },
      "source": [
        "# Khóa Số"
      ]
    },
    {
      "cell_type": "markdown",
      "metadata": {
        "id": "A2IeH4qn7BKo"
      },
      "source": [
        "# 1.abstraction:\n",
        "  Biến đổi xâu sao cho xâu lớn nhất thỏa mãn điều kiện(Số nhận được có thể bắt đầu bằng các chữ số 0. Xâu “000” sẽ lớn hơn xâu “00”.)"
      ]
    },
    {
      "cell_type": "markdown",
      "metadata": {
        "id": "OKefLK8X73aW"
      },
      "source": [
        "# 2.Pattern Recognition:\n",
        "  Bài toán biến đổi và xóa bớt nếu cần thiết"
      ]
    },
    {
      "cell_type": "markdown",
      "metadata": {
        "id": "X9YIxPH4AQrg"
      },
      "source": [
        "#4.Độ phức tạp thuật toán:O(n)"
      ]
    },
    {
      "cell_type": "markdown",
      "metadata": {
        "id": "S6WUpueBBJPL"
      },
      "source": [
        "# 5.Programing"
      ]
    },
    {
      "cell_type": "code",
      "metadata": {
        "id": "t6EeQ4SFBNHM"
      },
      "source": [
        "j = input().rstrip().lstrip()\n",
        "arr = list(j)\n",
        "arr = list(map(int,arr))\n",
        "arr.sort(reverse=True)\n",
        "s = sum(arr)\n",
        "c = []\n",
        "tmp = s % 3\n",
        "if s % 3 == 0:\n",
        "    print(*arr,sep=\"\")\n",
        "else:\n",
        "    if tmp == 1:\n",
        "        arr1 = []\n",
        "        arr2 = []\n",
        "        for i in arr:\n",
        "            if i % 3 == 1:\n",
        "                arr1.append(i)\n",
        "            if i % 3 == 2:\n",
        "                arr2.append(i)\n",
        "        if len(arr1) != 0:\n",
        "            if (s - min(arr1)) % 3 ==0:\n",
        "                arr.pop(arr.index((min(arr1))))\n",
        "        else:\n",
        "            for i in arr2:\n",
        "                arr.pop(arr.index(i))\n",
        "    if tmp == 2:\n",
        "        arr1 = []\n",
        "        arr2 = []\n",
        "        for i in arr:\n",
        "            if i % 3 == 1:\n",
        "                arr1.append(i)\n",
        "            if i % 3 == 2:\n",
        "                arr2.append(i)\n",
        "        if len(arr2) != 0:\n",
        "            if (s - min(arr2))%3 == 0:\n",
        "                arr.pop(arr.index((min(arr2))))\n",
        "        else:\n",
        "            for i in arr1:\n",
        "                arr.pop(arr.index(i))\n",
        "    print(*arr,sep=\"\")"
      ],
      "execution_count": null,
      "outputs": []
    }
  ]
}