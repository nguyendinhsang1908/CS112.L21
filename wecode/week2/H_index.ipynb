{
  "nbformat": 4,
  "nbformat_minor": 0,
  "metadata": {
    "colab": {
      "name": "Untitled0.ipynb",
      "provenance": [],
      "collapsed_sections": []
    },
    "kernelspec": {
      "name": "python3",
      "display_name": "Python 3"
    },
    "language_info": {
      "name": "python"
    }
  },
  "cells": [
    {
      "cell_type": "markdown",
      "metadata": {
        "id": "OPKuigcS677m"
      },
      "source": [
        "# H_index"
      ]
    },
    {
      "cell_type": "markdown",
      "metadata": {
        "id": "A2IeH4qn7BKo"
      },
      "source": [
        "# 1.abstraction:\n",
        "  Tìm H sao cho trong dãy có h phần tử lớn hơn hoặc bằng h"
      ]
    },
    {
      "cell_type": "markdown",
      "metadata": {
        "id": "OKefLK8X73aW"
      },
      "source": [
        "# 2.Pattern Recognition:\n",
        " Sắp xếp mảng theo thứ tự,kiểm tra xem từ 0 đến i có phải có i phần tử lớn hơn hoặc bằng i hay không\n",
        " =>vét cạn"
      ]
    },
    {
      "cell_type": "markdown",
      "metadata": {
        "id": "X9YIxPH4AQrg"
      },
      "source": [
        "#4.Độ phức tạp thuật toán:O(n)"
      ]
    },
    {
      "cell_type": "markdown",
      "metadata": {
        "id": "S6WUpueBBJPL"
      },
      "source": [
        "# 5.Programing"
      ]
    },
    {
      "cell_type": "code",
      "metadata": {
        "id": "t6EeQ4SFBNHM"
      },
      "source": [
        "n = int(input())\n",
        "a = []\n",
        "a = list(map(int,input().split()))\n",
        "a.sort(reverse=True)\n",
        "k=0\n",
        "for i in range(n):\n",
        "    if a[i] < i + 1:\n",
        "        print(i)\n",
        "        k = 1\n",
        "        break\n",
        "if k==0:\n",
        "    print(len(a))"
      ],
      "execution_count": null,
      "outputs": []
    }
  ]
}