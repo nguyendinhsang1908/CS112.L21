{
  "nbformat": 4,
  "nbformat_minor": 0,
  "metadata": {
    "colab": {
      "name": "songuyenmoi.ipynb",
      "provenance": [],
      "collapsed_sections": [],
      "toc_visible": true
    },
    "kernelspec": {
      "name": "python3",
      "display_name": "Python 3"
    },
    "language_info": {
      "name": "python"
    }
  },
  "cells": [
    {
      "cell_type": "markdown",
      "metadata": {
        "id": "CkqKANmA_mEL"
      },
      "source": [
        "**CS112.L21.N12**\n",
        "**SỐ NGUYÊN MỚI**\n",
        "1. Abstraction\n",
        "  - Cần tìm số nguyên lớn nhất thỏa mãn yêu cầu: chia hết cho 3, khác 1 chữ số so với số ban đầu\n",
        "  - Số nguyên n được nhập vào có không quá 100 chữ số và không chứa các số 0 không có nghĩa.\n",
        "\n",
        "2. Pattern recognition\n",
        "  - Dạng thuật toán: Vét cạn\n",
        "  - Đặc điểm nhận dạng: Xét tất cả các trường hợp từ tốt nhất dần đến xấu nhất\n",
        "\n",
        "3. Thiết kế thuật toán\n",
        "  - Xét từng chữ số theo tứ tự từ hàng lớn nhất đến nhỏ nhất của n (từ trái sang phải).\n",
        "  - Thay chữ số đang xét bằng một chữ số lớn nhất có thể sao cho nó thỏa mãn 2 điều kiện: Số sau khi thay phải lớn hơn số ban đầu và số đó chia hết cho 3.\n",
        "  - Nếu như tìm được chữ số để thay thế thì xuất ra kết quả. Nếu không tìm được, ta xét tiếp chữ số ở hàng kế tiếp.\n",
        "  - Tiếp tục làm như vậy. Nếu ta xét tới chữ số cuối cùng (Chữ số hàng đơn vị), ta chỉ cần thay chữ số hàng đơn vị bằng chữ số lớn nhất để thỏa mãn số nguyên sau khi thay chia hết cho 3.(vd: 988 thay thành 987) Xuất ra màn hình kết quả.\n",
        "4. Độ phức tạp của thuật toán:\n",
        "  - Độ phức tạp: O(log(n))\n",
        "5. Code:\n",
        "\n"
      ]
    },
    {
      "cell_type": "code",
      "metadata": {
        "id": "dQw0N-h5_i7d"
      },
      "source": [
        "n = int(input())\n",
        "arr = []\n",
        "for i in range(len(str(n))):\n",
        "    arr.append(n%10)\n",
        "    n=n//10\n",
        "arr.reverse()\n",
        "j = 9\n",
        "i = 0\n",
        "while j > 0:\n",
        "    if arr[i] < j and (sum(arr) - arr[i] + j) % 3 == 0:\n",
        "        arr[i] = j \n",
        "        print(*arr,sep='')\n",
        "        break\n",
        "    if j == 1:\n",
        "        if i == len(arr)-1:\n",
        "            i = len(arr) - 1\n",
        "            j = arr[len(arr)-1]-1\n",
        "            while j > 0:\n",
        "                if arr[i] > j and (sum(arr) - arr[i] + j) % 3 == 0:\n",
        "                    arr[i] = j\n",
        "                    print(*arr,sep='')\n",
        "                    exit()\n",
        "                j -= 1\n",
        "        if i < len(arr)-1:\n",
        "            i += 1 \n",
        "        j = 9\n",
        "        continue\n",
        "    j -= 1"
      ],
      "execution_count": null,
      "outputs": []
    }
  ]
}
