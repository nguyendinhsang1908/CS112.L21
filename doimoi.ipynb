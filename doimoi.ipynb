{
  "nbformat": 4,
  "nbformat_minor": 0,
  "metadata": {
    "colab": {
      "name": "doimoi.ipynb",
      "provenance": [],
      "collapsed_sections": []
    },
    "kernelspec": {
      "name": "python3",
      "display_name": "Python 3"
    },
    "language_info": {
      "name": "python"
    }
  },
  "cells": [
    {
      "cell_type": "markdown",
      "metadata": {
        "id": "Q6HJHkz4gDVN"
      },
      "source": [
        "#**Đổi mới**\n",
        "1. Abstraction\n",
        "  - Cần tìm số ngày 2 đội chặt hết số cây\n",
        "2. Pattern recognition\n",
        "  - Tìm công thức toán tối ưu để tìm nghiệm của bài toán\n",
        "3. Ý tưởng thiết kế thuật toán\n",
        "  - Xác định xem 1 chu kỳ để 2 đội nghỉ chung 1 ngày là bao lâu, trong 1 chu kỳ đó 2 đội chặt được bao nhiêu cây \n",
        "  - Tính số chu kỳ khi chặt n cây, nếu không dư thì kết quả bằng m * k * số chu kỳ, còn dư thì xử lý bằng công thức toán xấp xỉ trong số ngày còn lại đó rồi cộng thêm vào với m * k * số chu kỳ rồi làm tròn kết quả\n",
        "4. Độ phức tạp thuật toán\n",
        "  - Vì không có vòng lặp mà chỉ áp dụng công thức toán nên độ phức tạp sẽ là \n",
        "  O(1)\n",
        "5. Code \n",
        "\n",
        "\n"
      ]
    },
    {
      "cell_type": "code",
      "metadata": {
        "id": "puBonzEpsg6u"
      },
      "source": [
        "a,k,b,m,n = map(int,input().split())\n",
        "tree_in_1_cycle = b*k*(m-1) + a*m*(k-1)  #số cây chặt được khi cả 2 nghỉ cùng 1 ngày\n",
        "cycle_done = n // tree_in_1_cycle \n",
        "rest = n % tree_in_1_cycle\n",
        "\n",
        "if rest == 0:\n",
        "    print (m*k*cycle_done)\n",
        "else:\n",
        "    print (round(m*k*cycle_done + rest/((a+b)-(a/k + b/m))))"
      ],
      "execution_count": null,
      "outputs": []
    }
  ]
}